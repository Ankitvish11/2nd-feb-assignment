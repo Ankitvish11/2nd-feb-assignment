{
 "cells": [
  {
   "cell_type": "markdown",
   "id": "8fd63694-1fd3-4b86-9beb-5825b2ed35bf",
   "metadata": {},
   "source": [
    "Answer 1.\n",
    "\n",
    "for loop,\n",
    "example- Printing the first 5 even number"
   ]
  },
  {
   "cell_type": "code",
   "execution_count": 5,
   "id": "5b4384ff-e6b5-4ff3-8c7d-174ebedfc933",
   "metadata": {},
   "outputs": [
    {
     "name": "stdout",
     "output_type": "stream",
     "text": [
      "2\n",
      "4\n",
      "6\n",
      "8\n",
      "10\n"
     ]
    }
   ],
   "source": [
    "for i in range(1, 11):\n",
    "    if i % 2 == 0:\n",
    "        print(i)"
   ]
  },
  {
   "cell_type": "markdown",
   "id": "9b7f65ec-52f1-4b2b-b38b-48be84cc0f6d",
   "metadata": {},
   "source": [
    "for while loop \n",
    "example - calculating the sum of numbers until the sum exceeds 100."
   ]
  },
  {
   "cell_type": "code",
   "execution_count": 8,
   "id": "7bd21d9c-2a73-4b78-ba8d-171c319fd7b9",
   "metadata": {},
   "outputs": [
    {
     "name": "stdout",
     "output_type": "stream",
     "text": [
      "Sum: 105\n"
     ]
    }
   ],
   "source": [
    "total_sum = 0\n",
    "current_number = 1\n",
    "\n",
    "while total_sum <= 100:\n",
    "    total_sum += current_number\n",
    "    current_number += 1\n",
    "\n",
    "print(\"Sum:\", total_sum)"
   ]
  },
  {
   "cell_type": "markdown",
   "id": "bde374bf-e459-44e2-a95b-bc0272f3f0cf",
   "metadata": {},
   "source": [
    "Answer 2."
   ]
  },
  {
   "cell_type": "markdown",
   "id": "5ec91905-489f-4a25-b697-53ae79a56915",
   "metadata": {},
   "source": [
    "using for a loop-"
   ]
  },
  {
   "cell_type": "code",
   "execution_count": 9,
   "id": "676efc6e-3858-45e8-9ad5-4ffbd0a8f67a",
   "metadata": {},
   "outputs": [],
   "source": [
    "sum_of_numbers = 0\n",
    "for num in range(1, 11):\n",
    "    sum_of_numbers += num"
   ]
  },
  {
   "cell_type": "code",
   "execution_count": 10,
   "id": "6426924e-08bb-4135-b0b7-8a23b436db10",
   "metadata": {},
   "outputs": [],
   "source": [
    "product_of_numbers = 1\n",
    "for num in range(1, 11):\n",
    "    product_of_numbers *= num"
   ]
  },
  {
   "cell_type": "code",
   "execution_count": 14,
   "id": "ac7d48f7-ade5-4c34-8b0c-56c1e2928b4b",
   "metadata": {},
   "outputs": [
    {
     "name": "stdout",
     "output_type": "stream",
     "text": [
      "Sum of the first 10 natural numbers: 55\n",
      "Product of the first 10 natural numbers: 3628800\n"
     ]
    }
   ],
   "source": [
    "print(\"Sum of the first 10 natural numbers:\", sum_of_numbers)\n",
    "print(\"Product of the first 10 natural numbers:\", product_of_numbers)"
   ]
  },
  {
   "cell_type": "markdown",
   "id": "46d7adc2-aef4-45f0-a50b-1276e5cbccdf",
   "metadata": {},
   "source": [
    "using for a while loop-"
   ]
  },
  {
   "cell_type": "code",
   "execution_count": 15,
   "id": "5f8ccc3b-d7a8-4545-9320-00555ee6e009",
   "metadata": {},
   "outputs": [],
   "source": [
    "sum_of_numbers = 0\n",
    "num = 1\n",
    "while num <= 10:\n",
    "    sum_of_numbers += num\n",
    "    num += 1"
   ]
  },
  {
   "cell_type": "code",
   "execution_count": 16,
   "id": "d5be0e31-9bc5-4909-9465-3e596f5b1340",
   "metadata": {},
   "outputs": [],
   "source": [
    "num = 1\n",
    "product_of_numbers = 1\n",
    "while num <= 10:\n",
    "    product_of_numbers *= num\n",
    "    num += 1"
   ]
  },
  {
   "cell_type": "code",
   "execution_count": 17,
   "id": "190775d5-5ccf-4919-96da-c95cc412de6f",
   "metadata": {},
   "outputs": [
    {
     "name": "stdout",
     "output_type": "stream",
     "text": [
      "Sum of the first 10 natural numbers: 55\n",
      "Product of the first 10 natural numbers: 3628800\n"
     ]
    }
   ],
   "source": [
    "print(\"Sum of the first 10 natural numbers:\", sum_of_numbers)\n",
    "print(\"Product of the first 10 natural numbers:\", product_of_numbers)"
   ]
  },
  {
   "cell_type": "markdown",
   "id": "a78108f4-4ac9-40c8-90e6-e45e5e494ccc",
   "metadata": {},
   "source": [
    "Both programs will produce the same output, displaying the sum and product of the first 10 natural numbers."
   ]
  },
  {
   "cell_type": "markdown",
   "id": "5b7bd85d-bf83-4569-9660-032eaa2a42a2",
   "metadata": {},
   "source": [
    "Answer 3."
   ]
  },
  {
   "cell_type": "code",
   "execution_count": 29,
   "id": "b0a8fd06-b638-44f3-ba9c-4243a03b3f1a",
   "metadata": {},
   "outputs": [],
   "source": [
    "def calculate_electricity_bill(units):\n",
    "    if units <= 100:\n",
    "        total_bill = units * 4.5\n",
    "    elif units <= 200:\n",
    "        total_bill = 100 * 4.5 + (units - 100) * 6\n",
    "    elif units <= 300:\n",
    "        total_bill = 100 * 4.5 + 100 * 6 + (units - 200) * 10\n",
    "    else:\n",
    "        total_bill = 100 * 4.5 + 100 * 6 + 100 * 10 + (units - 300) * 20\n",
    "\n",
    "    return total_bill"
   ]
  },
  {
   "cell_type": "code",
   "execution_count": 30,
   "id": "eab79e4b-5e8f-4854-89ec-89fdf1e1ca46",
   "metadata": {},
   "outputs": [],
   "source": [
    "def main():\n",
    "    try:\n",
    "        units_consumed = int(input(\"Enter the units of electricity consumed in a month: \"))\n",
    "        if units_consumed < 0:\n",
    "            raise ValueError(\"Units consumed cannot be negative.\")\n",
    "        \n",
    "        total_bill = calculate_electricity_bill(units_consumed)\n",
    "        print(\"Total electricity bill: Rs. {:.2f}\".format(total_bill))\n",
    "        \n",
    "    except ValueError as e:\n",
    "        print(\"Error:\", e)"
   ]
  },
  {
   "cell_type": "code",
   "execution_count": 31,
   "id": "665f2146-885a-4ed5-b58d-aa50b30d9270",
   "metadata": {},
   "outputs": [
    {
     "name": "stdin",
     "output_type": "stream",
     "text": [
      "Enter the units of electricity consumed in a month:  310\n"
     ]
    },
    {
     "name": "stdout",
     "output_type": "stream",
     "text": [
      "Total electricity bill: Rs. 2250.00\n"
     ]
    }
   ],
   "source": [
    "if __name__ == \"__main__\":\n",
    "    main()"
   ]
  },
  {
   "cell_type": "markdown",
   "id": "e47009ff-f0fb-416d-ac09-8311b7950bff",
   "metadata": {},
   "source": [
    "Answer 4."
   ]
  },
  {
   "cell_type": "markdown",
   "id": "6a148f9a-45b8-4866-8230-fa250eb4be9b",
   "metadata": {},
   "source": [
    "#using for loop -"
   ]
  },
  {
   "cell_type": "code",
   "execution_count": 33,
   "id": "4349a533-22ff-4ce1-ab47-04b46beba100",
   "metadata": {},
   "outputs": [],
   "source": [
    "numbers = list(range(1, 101))\n",
    "result_list = []"
   ]
  },
  {
   "cell_type": "code",
   "execution_count": 34,
   "id": "2cb47586-5f72-4ac9-a995-16206c9efc8d",
   "metadata": {},
   "outputs": [],
   "source": [
    "for number in numbers:\n",
    "    cube = number ** 3\n",
    "    if cube % 4 == 0 or cube % 5 == 0:\n",
    "        result_list.append(number)"
   ]
  },
  {
   "cell_type": "code",
   "execution_count": 35,
   "id": "7a554923-f513-48a1-a274-f615fec33153",
   "metadata": {},
   "outputs": [
    {
     "name": "stdout",
     "output_type": "stream",
     "text": [
      "[2, 4, 5, 6, 8, 10, 12, 14, 15, 16, 18, 20, 22, 24, 25, 26, 28, 30, 32, 34, 35, 36, 38, 40, 42, 44, 45, 46, 48, 50, 52, 54, 55, 56, 58, 60, 62, 64, 65, 66, 68, 70, 72, 74, 75, 76, 78, 80, 82, 84, 85, 86, 88, 90, 92, 94, 95, 96, 98, 100]\n"
     ]
    }
   ],
   "source": [
    "print(result_list)"
   ]
  },
  {
   "cell_type": "markdown",
   "id": "4a4899dd-28fd-45ca-bb87-fa4649b82878",
   "metadata": {},
   "source": [
    "#for while loop - "
   ]
  },
  {
   "cell_type": "code",
   "execution_count": 36,
   "id": "9c706202-b5a3-40be-90e9-f7f7b2573f83",
   "metadata": {},
   "outputs": [],
   "source": [
    "numbers = list(range(1, 101))\n",
    "result_list = []"
   ]
  },
  {
   "cell_type": "code",
   "execution_count": 37,
   "id": "2e9e0bba-9be5-4da1-b6cb-db64b12127b0",
   "metadata": {},
   "outputs": [],
   "source": [
    "i = 0\n",
    "while i < len(numbers):\n",
    "    cube = numbers[i] ** 3\n",
    "    if cube % 4 == 0 or cube % 5 == 0:\n",
    "        result_list.append(numbers[i])\n",
    "    i += 1"
   ]
  },
  {
   "cell_type": "code",
   "execution_count": 41,
   "id": "d33051e2-3637-4fc1-9a9a-af579e61ec90",
   "metadata": {},
   "outputs": [
    {
     "name": "stdout",
     "output_type": "stream",
     "text": [
      "[2, 4, 5, 6, 8, 10, 12, 14, 15, 16, 18, 20, 22, 24, 25, 26, 28, 30, 32, 34, 35, 36, 38, 40, 42, 44, 45, 46, 48, 50, 52, 54, 55, 56, 58, 60, 62, 64, 65, 66, 68, 70, 72, 74, 75, 76, 78, 80, 82, 84, 85, 86, 88, 90, 92, 94, 95, 96, 98, 100]\n"
     ]
    }
   ],
   "source": [
    "print(result_list)"
   ]
  },
  {
   "cell_type": "markdown",
   "id": "46937120-8ea9-40e4-987a-e9eed291678b",
   "metadata": {},
   "source": [
    "Answer 5."
   ]
  },
  {
   "cell_type": "code",
   "execution_count": 45,
   "id": "704f831d-124f-4bff-b348-34a7869a37ed",
   "metadata": {},
   "outputs": [],
   "source": [
    "def count_vowels(string):\n",
    "    vowels = \"aeiouAEIOU\"\n",
    "    vowel_count = 0\n",
    "\n",
    "    for char in string:\n",
    "        if char in vowels:\n",
    "            vowel_count += 1\n",
    "            return vowel_count"
   ]
  },
  {
   "cell_type": "code",
   "execution_count": 49,
   "id": "e24defd5-45cc-4a0e-8206-33c1a6a777b2",
   "metadata": {},
   "outputs": [
    {
     "name": "stdout",
     "output_type": "stream",
     "text": [
      "Number of vowels in the string: 1\n"
     ]
    }
   ],
   "source": [
    "if __name__ == \"__main__\":\n",
    "    string = \"I want to become a data scientist\"\n",
    "    vowel_count = count_vowels(string)\n",
    "    print(f\"Number of vowels in the string: {vowel_count}\")"
   ]
  },
  {
   "cell_type": "code",
   "execution_count": 50,
   "id": "ff09a935-4d05-4bff-b7d7-194860de1901",
   "metadata": {},
   "outputs": [
    {
     "name": "stdout",
     "output_type": "stream",
     "text": [
      "Number of vowels in the string: 1\n"
     ]
    }
   ],
   "source": [
    " print(f\"Number of vowels in the string: {vowel_count}\")"
   ]
  },
  {
   "cell_type": "code",
   "execution_count": null,
   "id": "f767eb31-5ff4-4f7e-8dff-d112056a6749",
   "metadata": {},
   "outputs": [],
   "source": []
  }
 ],
 "metadata": {
  "kernelspec": {
   "display_name": "Python 3 (ipykernel)",
   "language": "python",
   "name": "python3"
  },
  "language_info": {
   "codemirror_mode": {
    "name": "ipython",
    "version": 3
   },
   "file_extension": ".py",
   "mimetype": "text/x-python",
   "name": "python",
   "nbconvert_exporter": "python",
   "pygments_lexer": "ipython3",
   "version": "3.10.8"
  }
 },
 "nbformat": 4,
 "nbformat_minor": 5
}
